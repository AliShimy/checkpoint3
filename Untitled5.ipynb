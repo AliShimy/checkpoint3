{
 "cells": [
  {
   "cell_type": "code",
   "execution_count": 1,
   "id": "57e226b5",
   "metadata": {
    "scrolled": true
   },
   "outputs": [
    {
     "name": "stdout",
     "output_type": "stream",
     "text": [
      "24\n"
     ]
    }
   ],
   "source": [
    "def multiplyList(myList) :\n",
    " \n",
    "    result = 1\n",
    "    for x in myList:\n",
    "         result = result * x\n",
    "    return result\n",
    "\n",
    "list1 = [3, 2, 4]\n",
    "print(multiplyList(list1))"
   ]
  },
  {
   "cell_type": "code",
   "execution_count": 7,
   "id": "adcbf594",
   "metadata": {},
   "outputs": [
    {
     "name": "stdout",
     "output_type": "stream",
     "text": [
      "[(9, 1), (41, 2), (513, 3), (325, 4), (12, 5)]\n"
     ]
    }
   ],
   "source": [
    "def last(f): return f[-1]\n",
    "\n",
    "def sorted_list(tuples):\n",
    "  return sorted(tuples, key=last)\n",
    "\n",
    "print(sorted_list([(12, 5), (41, 2), (325, 4), (513, 3), (9, 1)]))"
   ]
  },
  {
   "cell_type": "raw",
   "id": "d8457b63",
   "metadata": {},
   "source": [
    "d1 = {'a': 100, 'b': 200, 'c':300}\n",
    "d2 = {'a': 300, 'b': 200, 'd':400}\n",
    "d3 = dict(d1)\n",
    "d3.update(d2)\n",
    "for i, j in d1.items():\n",
    "    for x, y in d2.items():\n",
    "        if i == x:\n",
    "            d3[i]=(j+y)\n",
    "print(d3)"
   ]
  },
  {
   "cell_type": "code",
   "execution_count": 26,
   "id": "39806eb9",
   "metadata": {},
   "outputs": [
    {
     "name": "stdout",
     "output_type": "stream",
     "text": [
      "{1: 1, 2: 4, 3: 9, 4: 16, 5: 25, 6: 36, 7: 49}\n"
     ]
    }
   ],
   "source": [
    "dic={}\n",
    "for i in range(1,8):\n",
    "    dic[i]=i*i\n",
    "print(dic)"
   ]
  },
  {
   "cell_type": "code",
   "execution_count": 49,
   "id": "38be0470",
   "metadata": {},
   "outputs": [
    {
     "name": "stdout",
     "output_type": "stream",
     "text": [
      "[('item3', '24.5'), ('item2', '15.10'), ('item1', '12.20')]\n"
     ]
    }
   ],
   "source": [
    "list1=[('item1', '12.20'), ('item3', '24.5'),('item2', '15.10')]\n",
    "list1.sort(key = lambda x : x[1],reverse = True)\n",
    "print(list1)"
   ]
  },
  {
   "cell_type": "code",
   "execution_count": null,
   "id": "7ba4d7b9",
   "metadata": {},
   "outputs": [],
   "source": []
  }
 ],
 "metadata": {
  "kernelspec": {
   "display_name": "Python 3",
   "language": "python",
   "name": "python3"
  },
  "language_info": {
   "codemirror_mode": {
    "name": "ipython",
    "version": 3
   },
   "file_extension": ".py",
   "mimetype": "text/x-python",
   "name": "python",
   "nbconvert_exporter": "python",
   "pygments_lexer": "ipython3",
   "version": "3.8.8"
  }
 },
 "nbformat": 4,
 "nbformat_minor": 5
}
